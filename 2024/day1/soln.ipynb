{
 "cells": [
  {
   "cell_type": "code",
   "execution_count": 1,
   "metadata": {},
   "outputs": [],
   "source": [
    "import array"
   ]
  },
  {
   "cell_type": "code",
   "execution_count": 2,
   "metadata": {},
   "outputs": [],
   "source": [
    "left_location_ids = array.array('L')\n",
    "right_location_ids = array.array('L')\n",
    "with open('input.txt', 'r+') as f:\n",
    "    while line := f.readline():\n",
    "        (left_location_id, right_location_id) = line.split()\n",
    "        left_location_ids.append(int(left_location_id))\n",
    "        right_location_ids.append(int(right_location_id))"
   ]
  },
  {
   "cell_type": "code",
   "execution_count": 3,
   "metadata": {},
   "outputs": [],
   "source": [
    "if len(left_location_ids) != len(right_location_ids):\n",
    "    raise Exception(\"left and right lists are not of equal length\")\n",
    "\n",
    "left_location_ids = sorted(left_location_ids)\n",
    "right_location_ids = sorted(right_location_ids)"
   ]
  },
  {
   "cell_type": "code",
   "execution_count": 4,
   "metadata": {},
   "outputs": [
    {
     "data": {
      "text/plain": [
       "2742123"
      ]
     },
     "execution_count": 4,
     "metadata": {},
     "output_type": "execute_result"
    }
   ],
   "source": [
    "# Part 1\n",
    "sum(abs(left_location_ids[i] - right_location_ids[i]) for i in range(len(left_location_ids)))"
   ]
  },
  {
   "cell_type": "code",
   "execution_count": 6,
   "metadata": {},
   "outputs": [],
   "source": [
    "# Part 2\n",
    "right_location_id_frequency: dict[int, int] = {}\n",
    "for location_id in right_location_ids:\n",
    "    right_location_id_frequency[location_id] = right_location_id_frequency.get(location_id, 0) + 1"
   ]
  },
  {
   "cell_type": "code",
   "execution_count": 7,
   "metadata": {},
   "outputs": [
    {
     "data": {
      "text/plain": [
       "21328497"
      ]
     },
     "execution_count": 7,
     "metadata": {},
     "output_type": "execute_result"
    }
   ],
   "source": [
    "sum(left_location_id * right_location_id_frequency.get(left_location_id, 0) for left_location_id in left_location_ids)"
   ]
  }
 ],
 "metadata": {
  "kernelspec": {
   "display_name": "Python 3",
   "language": "python",
   "name": "python3"
  },
  "language_info": {
   "codemirror_mode": {
    "name": "ipython",
    "version": 3
   },
   "file_extension": ".py",
   "mimetype": "text/x-python",
   "name": "python",
   "nbconvert_exporter": "python",
   "pygments_lexer": "ipython3",
   "version": "3.11.5"
  }
 },
 "nbformat": 4,
 "nbformat_minor": 2
}
